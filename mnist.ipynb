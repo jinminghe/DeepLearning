{
 "cells": [
  {
   "cell_type": "code",
   "execution_count": 1,
   "metadata": {},
   "outputs": [
    {
     "name": "stderr",
     "output_type": "stream",
     "text": [
      "Using TensorFlow backend.\n"
     ]
    }
   ],
   "source": [
    "from keras.models import Sequential\n",
    "from keras.layers import Dense, Dropout, Flatten\n",
    "from keras.layers import Conv2D, MaxPooling2D\n",
    "from keras.utils import to_categorical"
   ]
  },
  {
   "cell_type": "code",
   "execution_count": 2,
   "metadata": {},
   "outputs": [],
   "source": [
    "from keras.datasets import mnist\n",
    "(x_train, y_train), (x_test, y_test) = mnist.load_data()\n",
    "y_train, y_test = to_categorical(y_train), to_categorical(y_test)"
   ]
  },
  {
   "cell_type": "code",
   "execution_count": 3,
   "metadata": {},
   "outputs": [
    {
     "name": "stdout",
     "output_type": "stream",
     "text": [
      "Epoch 1/10\n",
      "60000/60000 [==============================] - 6s - loss: 9.0054 - acc: 0.4362     \n",
      "Epoch 2/10\n",
      "60000/60000 [==============================] - 6s - loss: 5.1511 - acc: 0.6747     \n",
      "Epoch 3/10\n",
      "60000/60000 [==============================] - 6s - loss: 4.5138 - acc: 0.7162     \n",
      "Epoch 4/10\n",
      "60000/60000 [==============================] - 6s - loss: 4.4409 - acc: 0.7211     \n",
      "Epoch 5/10\n",
      "60000/60000 [==============================] - 6s - loss: 3.4453 - acc: 0.7819     \n",
      "Epoch 6/10\n",
      "60000/60000 [==============================] - 6s - loss: 3.0684 - acc: 0.8064     \n",
      "Epoch 7/10\n",
      "60000/60000 [==============================] - 6s - loss: 3.0095 - acc: 0.8104     \n",
      "Epoch 8/10\n",
      "60000/60000 [==============================] - 6s - loss: 2.9473 - acc: 0.8145     \n",
      "Epoch 9/10\n",
      "60000/60000 [==============================] - 6s - loss: 2.8683 - acc: 0.8198     \n",
      "Epoch 10/10\n",
      "60000/60000 [==============================] - 6s - loss: 2.8864 - acc: 0.8188     \n",
      " 9728/10000 [============================>.] - ETA: 0s"
     ]
    },
    {
     "data": {
      "text/plain": [
       "[3.0152018482208254, 0.80979999999999996]"
      ]
     },
     "execution_count": 3,
     "metadata": {},
     "output_type": "execute_result"
    }
   ],
   "source": [
    "# Plain NN.\n",
    "x_train_reshaped = x_train.reshape(x_train.shape[0], -1)\n",
    "x_test_reshaped = x_test.reshape(x_test.shape[0], -1)\n",
    "\n",
    "model = Sequential([\n",
    "    Dense(32, activation='relu', input_shape=(x_train_reshaped.shape[1],)),\n",
    "    Dense(10, activation='softmax'),\n",
    "])\n",
    "\n",
    "model.compile(optimizer='adam',\n",
    "              loss='categorical_crossentropy',\n",
    "              metrics=['accuracy'])\n",
    "model.fit(x_train_reshaped, y_train)\n",
    "\n",
    "model.evaluate(x_test_reshaped, y_test)"
   ]
  },
  {
   "cell_type": "code",
   "execution_count": 4,
   "metadata": {},
   "outputs": [
    {
     "name": "stdout",
     "output_type": "stream",
     "text": [
      "Epoch 1/12\n",
      "60000/60000 [==============================] - 111s - loss: 7.7134 - acc: 0.5164   \n",
      "Epoch 2/12\n",
      "60000/60000 [==============================] - 111s - loss: 3.2191 - acc: 0.7946   \n",
      "Epoch 3/12\n",
      "60000/60000 [==============================] - 112s - loss: 2.6225 - acc: 0.8327   - ETA: 0s - loss: 2.6242 - acc:\n",
      "Epoch 4/12\n",
      "60000/60000 [==============================] - 115s - loss: 1.7467 - acc: 0.8876   \n",
      "Epoch 5/12\n",
      "60000/60000 [==============================] - 116s - loss: 1.0989 - acc: 0.9284   \n",
      "Epoch 6/12\n",
      "60000/60000 [==============================] - 117s - loss: 1.0671 - acc: 0.9314   \n",
      "Epoch 7/12\n",
      "60000/60000 [==============================] - 117s - loss: 1.0848 - acc: 0.9308   \n",
      "Epoch 8/12\n",
      "60000/60000 [==============================] - 117s - loss: 0.9808 - acc: 0.9374   \n",
      "Epoch 9/12\n",
      "60000/60000 [==============================] - 1718s - loss: 0.9957 - acc: 0.9369  \n",
      "Epoch 10/12\n",
      "60000/60000 [==============================] - 92s - loss: 1.0394 - acc: 0.9343    - ETA: 1s - loss - ETA: 0s - loss: 1.0400 - acc: 0\n",
      "Epoch 11/12\n",
      "60000/60000 [==============================] - 93s - loss: 1.0623 - acc: 0.9330    - ETA: 1s - \n",
      "Epoch 12/12\n",
      "60000/60000 [==============================] - 93s - loss: 1.0855 - acc: 0.9317    \n",
      " 9952/10000 [============================>.] - ETA: 0s"
     ]
    },
    {
     "data": {
      "text/plain": [
       "[0.76554933793265223, 0.95220000000000005]"
      ]
     },
     "execution_count": 4,
     "metadata": {},
     "output_type": "execute_result"
    }
   ],
   "source": [
    "# CNN\n",
    "x_train_reshaped = x_train.reshape(x_train.shape[0], 28, 28, 1)\n",
    "x_test_reshaped = x_test.reshape(x_test.shape[0], 28, 28, 1)\n",
    "\n",
    "model = Sequential([\n",
    "    Conv2D(32, (3, 3), activation='relu', input_shape=(28, 28, 1)),\n",
    "    MaxPooling2D(pool_size=(2, 2)),\n",
    "    Dropout(0.25),\n",
    "\n",
    "    Flatten(),\n",
    "    Dense(256, activation='relu'),\n",
    "    Dropout(0.5),\n",
    "    Dense(10, activation='softmax'),\n",
    "])\n",
    "\n",
    "model.compile(optimizer='adam',\n",
    "              loss='categorical_crossentropy',\n",
    "              metrics=['accuracy'])\n",
    "model.fit(x_train_reshaped, y_train, epochs=12)\n",
    "\n",
    "model.evaluate(x_test_reshaped, y_test)"
   ]
  }
 ],
 "metadata": {
  "kernelspec": {
   "display_name": "Python 3",
   "language": "python",
   "name": "python3"
  },
  "language_info": {
   "codemirror_mode": {
    "name": "ipython",
    "version": 3
   },
   "file_extension": ".py",
   "mimetype": "text/x-python",
   "name": "python",
   "nbconvert_exporter": "python",
   "pygments_lexer": "ipython3",
   "version": "3.6.1"
  }
 },
 "nbformat": 4,
 "nbformat_minor": 2
}
